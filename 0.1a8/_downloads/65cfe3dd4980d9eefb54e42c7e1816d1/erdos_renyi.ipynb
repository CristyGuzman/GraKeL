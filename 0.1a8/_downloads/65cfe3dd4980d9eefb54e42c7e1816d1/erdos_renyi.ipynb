{
  "cells": [
    {
      "cell_type": "code",
      "execution_count": null,
      "metadata": {
        "collapsed": false
      },
      "outputs": [],
      "source": [
        "%matplotlib inline"
      ]
    },
    {
      "cell_type": "markdown",
      "metadata": {},
      "source": [
        "\n# Graph classification on a randomly generated dataset of Erdos-Renyi graphs.\n\nScript makes use of :class:`grakel.Graph` and :class:`grakel.ShortestPath`\n\n"
      ]
    },
    {
      "cell_type": "code",
      "execution_count": null,
      "metadata": {
        "collapsed": false
      },
      "outputs": [],
      "source": [
        "from __future__ import print_function\nprint(__doc__)\n\nimport numpy as np\n\nfrom random import random\n\nfrom sklearn.model_selection import train_test_split\nfrom sklearn.svm import SVC\nfrom sklearn.metrics import accuracy_score\n\nfrom grakel import Graph\nfrom grakel.kernels import ShortestPath\n\n# Generates 3 sets of Erdos-Renyi graphs. Each edge is included in the graph with probability p\n# independent from every other edge. The probability p is set equal to 0.25, 0.5 and 0.75 for \n# the graphs of the 1st, 2nd and 3rd set, respectivery\nGs = list()\ny = list()\nprobs = [0.25, 0.5, 0.75]\nfor i in range(len(probs)):\n\tfor j in range(5, 35):\n\t\tedges = list()\n\t\tfor n1 in range(j):\n\t\t\tfor n2 in range(n1+1, j):\n\t\t\t\tif random() <= probs[i]:\n\t\t\t\t\tedges.append((n1, n2))\n\t\t\t\t\tedges.append((n2, n1))\n\n\t\tGs.append(Graph(edges))\n\t\ty.append(i)\n\n# Splits the dataset into a training and a test set\nG_train, G_test, y_train, y_test = train_test_split(Gs, y, test_size=0.1, random_state=42)\n\n# Uses the shortest path kernel to generate the kernel matrices\ngk = ShortestPath(normalize=True, with_labels=False)\nK_train = gk.fit_transform(G_train)\nK_test = gk.transform(G_test)\n\n# Uses the SVM classifier to perform classification\nclf = SVC(kernel=\"precomputed\")\nclf.fit(K_train, y_train)\ny_pred = clf.predict(K_test)\n\n# Computes and prints the classification accuracy\nacc = accuracy_score(y_test, y_pred)\nprint(\"Accuracy:\", str(round(acc*100, 2)) + \"%\")"
      ]
    }
  ],
  "metadata": {
    "kernelspec": {
      "display_name": "Python 3",
      "language": "python",
      "name": "python3"
    },
    "language_info": {
      "codemirror_mode": {
        "name": "ipython",
        "version": 3
      },
      "file_extension": ".py",
      "mimetype": "text/x-python",
      "name": "python",
      "nbconvert_exporter": "python",
      "pygments_lexer": "ipython3",
      "version": "3.6.14"
    }
  },
  "nbformat": 4,
  "nbformat_minor": 0
}