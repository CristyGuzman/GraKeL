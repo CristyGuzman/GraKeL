{
  "cells": [
    {
      "cell_type": "code",
      "execution_count": null,
      "metadata": {
        "collapsed": false
      },
      "outputs": [],
      "source": [
        "%matplotlib inline"
      ]
    },
    {
      "cell_type": "markdown",
      "metadata": {},
      "source": [
        "\n# Example of transforming NetworkX graphs to GraKeL graphs.\n\n"
      ]
    },
    {
      "cell_type": "code",
      "execution_count": null,
      "metadata": {
        "collapsed": false
      },
      "outputs": [],
      "source": [
        "from __future__ import print_function\nprint(__doc__)\n\nimport numpy as np\nimport networkx as nx\n\nfrom grakel.utils import graph_from_networkx\n\n# Creates a list of two simple graphs\nG1 = nx.Graph()\nG1.add_nodes_from([0,1,2])\nG1.add_edges_from([(0,1), (1,2)])\n\nG2 = nx.Graph()\nG2.add_nodes_from([0,1,2])\nG2.add_edges_from([(0,1), (0,2), (1,2)])\n\nG_nx = [G1, G2]\n\n# Transforms list of NetworkX graphs into a list of GraKeL graphs\nG = graph_from_networkx(G_nx)\nprint(\"1 - Simple graphs transformed\\n\")\n\n\n# Creates a list of two node-labeled graphs\nG1 = nx.Graph()\nG1.add_nodes_from([0,1,2])\nG1.add_edges_from([(0,1), (1,2)])\nnx.set_node_attributes(G1, {0:'a', 1:'b', 2:'a'}, 'label')\n\nG2 = nx.Graph()\nG2.add_nodes_from([0,1,2])\nG2.add_edges_from([(0,1), (0,2), (1,2)])\nnx.set_node_attributes(G2, {0:'a', 1:'b', 2:'c'}, 'label')\n\nG_nx = [G1, G2]\n\n# Transforms list of NetworkX graphs into a list of GraKeL graphs\nG = graph_from_networkx(G_nx, node_labels_tag='label')\nprint(\"2 - Node-labeled graphs transformed\\n\")\n\n\n# Creates a list of two node-attributed graphs\nG1 = nx.Graph()\nG1.add_nodes_from([0,1,2])\nG1.add_edges_from([(0,1), (1,2)])\nnx.set_node_attributes(G1, {0:np.array([1.1, 0.8]), \n\t1:np.array([0.2, -0.3]), 2:np.array([0.9, 1.0])}, 'attributes')\n\nG2 = nx.Graph()\nG2.add_nodes_from([0,1,2])\nG2.add_edges_from([(0,1), (0,2), (1,2)])\nnx.set_node_attributes(G2, {0:np.array([1.8, 0.5]), \n\t1:np.array([-0.1, 0.2]), 2:np.array([2.3, 1.2])}, 'attributes')\n\nG_nx = [G1, G2]\n\n# Transforms list of NetworkX graphs into a list of GraKeL graphs\nG = graph_from_networkx(G_nx, node_labels_tag='attributes')\nprint(\"3 - Node-attributed graphs transformed\")"
      ]
    }
  ],
  "metadata": {
    "kernelspec": {
      "display_name": "Python 3",
      "language": "python",
      "name": "python3"
    },
    "language_info": {
      "codemirror_mode": {
        "name": "ipython",
        "version": 3
      },
      "file_extension": ".py",
      "mimetype": "text/x-python",
      "name": "python",
      "nbconvert_exporter": "python",
      "pygments_lexer": "ipython3",
      "version": "3.6.14"
    }
  },
  "nbformat": 4,
  "nbformat_minor": 0
}